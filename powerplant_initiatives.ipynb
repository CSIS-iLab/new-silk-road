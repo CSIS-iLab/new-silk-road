{
 "cells": [
  {
   "cell_type": "code",
   "execution_count": 1,
   "metadata": {},
   "outputs": [],
   "source": [
    "from infrastructure.models import (\n",
    "    CuratedProjectCollection,\n",
    "    Project,\n",
    "    ProjectStatus,\n",
    "    Initiative,\n",
    "    InfrastructureType,\n",
    "    PowerPlant,\n",
    ")\n",
    "from locations.models import (\n",
    "    LineStringGeometry,\n",
    "    PointGeometry,\n",
    "    PolygonGeometry,\n",
    "    GeometryStore,\n",
    "    Region,\n",
    "    Country,\n",
    ")\n",
    "from django.db.models import (\n",
    "    Case, CharField, Count, ExpressionWrapper, F, FloatField, Q, Value, When\n",
    ")\n",
    "from django.contrib.postgres.aggregates import StringAgg\n",
    "from django.db.models.functions import Cast\n",
    "from decimal import Decimal\n",
    "from django.db.models.functions import Lower"
   ]
  },
  {
   "cell_type": "code",
   "execution_count": 3,
   "metadata": {},
   "outputs": [
    {
     "data": {
      "text/plain": [
       "[]"
      ]
     },
     "execution_count": 3,
     "metadata": {},
     "output_type": "execute_result"
    }
   ],
   "source": [
    "# Prod DB doesn't contain any power plants related to projects that have initiatives\n",
    "pp_with_initiatives = PowerPlant.objects.annotate(\n",
    "    initiative_count=Count('project__initiatives')\n",
    ").filter(\n",
    "    initiative_count__gt=0\n",
    ").order_by('-initiative_count')\n",
    "list(pp_with_initiatives.values_list('name', 'project__name', 'initiative_count')[:15])"
   ]
  },
  {
   "cell_type": "code",
   "execution_count": 4,
   "metadata": {},
   "outputs": [
    {
     "data": {
      "text/plain": [
       "[('Sofia Northern Speed Tangent', 5),\n",
       " ('Corridor VC Mostar South', 4),\n",
       " ('M5 Upgrade (Bobruysk - Zhlobin)', 4),\n",
       " ('Xinjiang Regional Road Improvement Project', 4),\n",
       " ('Dali-Ruili Railway', 4),\n",
       " ('Lot 1 Svilaj on The Sava River (connection to Corridor X) - Doboj South',\n",
       "  3),\n",
       " ('Vidin Calafat Danube Bridge (Road) (Bulgaria)', 3),\n",
       " ('Raikot - Khunjerab Karakoram Highway (Upgrade)', 3),\n",
       " ('Mae Sot/Myawady-Pa an-Thaton', 3),\n",
       " ('Thakot - Raikot Karakoram Highway (Upgrade)', 3),\n",
       " ('Lot 2: Doboj (South) - Sarajevo South (Tarčin)', 3),\n",
       " ('Yuxi-Mohan Subregional Railway Link Project', 3),\n",
       " ('Sainshand - Ereentsav, Nomrog, Bichil Rail Route', 3),\n",
       " ('Gwadar Port Construction of Breakwaters', 3),\n",
       " ('Gwadar Port - Infrastructure for Free Zone & EPZs port-related industries',\n",
       "  3)]"
      ]
     },
     "execution_count": 4,
     "metadata": {},
     "output_type": "execute_result"
    }
   ],
   "source": [
    "# For testing purposes, let's make a relationship\n",
    "# First get a list of all projects with initiatives\n",
    "projects_with_initiatives = Project.objects.annotate(\n",
    "    initiative_count=Count('initiatives')\n",
    ").filter(\n",
    "    initiative_count__gt=0\n",
    ").order_by('-initiative_count')\n",
    "list(projects_with_initiatives.values_list('name', 'initiative_count')[:15])"
   ]
  },
  {
   "cell_type": "code",
   "execution_count": 5,
   "metadata": {},
   "outputs": [
    {
     "data": {
      "text/plain": [
       "<PowerPlant: Kursk Nuclear Power Plant>"
      ]
     },
     "execution_count": 5,
     "metadata": {},
     "output_type": "execute_result"
    }
   ],
   "source": [
    "# Now grab a random power plant\n",
    "kursk = PowerPlant.objects.get(name='Kursk Nuclear Power Plant')\n",
    "kursk"
   ]
  },
  {
   "cell_type": "code",
   "execution_count": 6,
   "metadata": {},
   "outputs": [
    {
     "data": {
      "text/plain": [
       "<TreeQuerySet []>"
      ]
     },
     "execution_count": 6,
     "metadata": {},
     "output_type": "execute_result"
    }
   ],
   "source": [
    "# There are currently no initatives related to this power plant's projects\n",
    "Initiative.objects.filter(project__power_plant_id=kursk.pk)"
   ]
  },
  {
   "cell_type": "code",
   "execution_count": 10,
   "metadata": {},
   "outputs": [
    {
     "data": {
      "text/plain": [
       "<Project: Dali-Ruili Railway>"
      ]
     },
     "execution_count": 10,
     "metadata": {},
     "output_type": "execute_result"
    }
   ],
   "source": [
    "# link a project from above to Kursk\n",
    "dali_railway = Project.objects.get(name='Dali-Ruili Railway')\n",
    "dali_railway.power_plant = kursk\n",
    "dali_railway.save()\n",
    "dali_railway"
   ]
  },
  {
   "cell_type": "code",
   "execution_count": 12,
   "metadata": {},
   "outputs": [
    {
     "data": {
      "text/plain": [
       "[('Kursk Nuclear Power Plant', 'Dali-Ruili Railway', 4)]"
      ]
     },
     "execution_count": 12,
     "metadata": {},
     "output_type": "execute_result"
    }
   ],
   "source": [
    "# Now we can re-run the count from above and see that it returns a power plant now\n",
    "pp_with_initiatives = PowerPlant.objects.annotate(\n",
    "    initiative_count=Count('project__initiatives')\n",
    ").filter(\n",
    "    initiative_count__gt=0\n",
    ").order_by('-initiative_count')\n",
    "list(pp_with_initiatives.values_list('name', 'project__name', 'initiative_count')[:15])"
   ]
  },
  {
   "cell_type": "code",
   "execution_count": 13,
   "metadata": {},
   "outputs": [
    {
     "data": {
      "text/plain": [
       "<TreeQuerySet [<Initiative: Belt and Road>, <Initiative: GMS North-South Economic Corridor>, <Initiative: Trans-Asian Railway>, <Initiative: Singapore-Kunming Rail Link>]>"
      ]
     },
     "execution_count": 13,
     "metadata": {},
     "output_type": "execute_result"
    }
   ],
   "source": [
    "# now we can get the related initiatives to the Kursk power plant\n",
    "initiatives = Initiative.objects.filter(project__power_plant_id=kursk.pk)\n",
    "initiatives"
   ]
  },
  {
   "cell_type": "code",
   "execution_count": null,
   "metadata": {},
   "outputs": [],
   "source": []
  }
 ],
 "metadata": {
  "kernelspec": {
   "display_name": "Django Shell-Plus",
   "language": "python",
   "name": "django_extensions"
  },
  "language_info": {
   "codemirror_mode": {
    "name": "ipython",
    "version": 3
   },
   "file_extension": ".py",
   "mimetype": "text/x-python",
   "name": "python",
   "nbconvert_exporter": "python",
   "pygments_lexer": "ipython3",
   "version": "3.6.6"
  }
 },
 "nbformat": 4,
 "nbformat_minor": 2
}
