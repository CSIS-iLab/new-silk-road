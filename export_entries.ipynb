{
 "cells": [
  {
   "cell_type": "code",
   "execution_count": 1,
   "metadata": {},
   "outputs": [
    {
     "name": "stderr",
     "output_type": "stream",
     "text": [
      "[raven.contrib.django.client.DjangoClient]DEBUG 13:25:28 Configuring Raven for host: None\n",
      "[raven.contrib.django.client.DjangoClient]INFO 13:25:28 Raven is not configured (logging is disabled). Please see the documentation for more information.\n"
     ]
    }
   ],
   "source": [
    "import os\n",
    "import sys\n",
    "from pathlib import Path\n",
    "django_project_dir = Path(\".\")\n",
    "sys.path.insert(0, str(django_project_dir))\n",
    "os.environ.setdefault(\"DJANGO_SETTINGS_MODULE\", \"newsilkroad.settings\")\n",
    "os.environ[\"DJANGO_ALLOW_ASYNC_UNSAFE\"] = \"true\"\n",
    "import django\n",
    "django.setup()"
   ]
  },
  {
   "cell_type": "code",
   "execution_count": 2,
   "metadata": {},
   "outputs": [],
   "source": [
    "from writings.models import Entry, EntryCollection\n",
    "import csv"
   ]
  },
  {
   "cell_type": "code",
   "execution_count": 6,
   "metadata": {},
   "outputs": [],
   "source": [
    "def _get_categories(obj, *args):\n",
    "    if obj.categories:\n",
    "        return \",\".join([x.name for x in obj.categories.all()])\n",
    "    return \"\"\n",
    "\n",
    "def _get_tags(obj, *args):\n",
    "    if obj.tags:\n",
    "        return \",\".join([x.name for x in obj.tags.all()])\n",
    "    return \"\"\n",
    "\n",
    "def _get_related_entries(obj, *args):\n",
    "    if obj.related_entries:\n",
    "        return \",\".join([x.title for x in obj.related_entries.all()])\n",
    "    return \"\"\n",
    "\n",
    "def _get_filer_info(obj, *args):\n",
    "    value = ''\n",
    "    try:\n",
    "        if args[0] == \"featured_image_id\":\n",
    "            value = obj.featured_image.original_filename\n",
    "        else:\n",
    "            value = obj.sponsored_logo.original_filename\n",
    "    except AttributeError as e:\n",
    "        pass\n",
    "    return value"
   ]
  },
  {
   "cell_type": "code",
   "execution_count": 7,
   "metadata": {},
   "outputs": [],
   "source": [
    "entry_fields =  {\n",
    "    'id': '',\n",
    "    'created_at': '',\n",
    "    'updated_at': '',\n",
    "    'published': '',\n",
    "    'title': '',\n",
    "    'subtitle': '',\n",
    "    'slug': '',\n",
    "    'author': '',\n",
    "    'content': '',\n",
    "    'content_rendered': '',\n",
    "    'description': '',\n",
    "    'description_rendered': '',\n",
    "    'share_text': '',\n",
    "    'featured_image_id': _get_filer_info,\n",
    "    'is_sponsored': '',\n",
    "    'sponsored_logo_id': _get_filer_info,\n",
    "    'publication_date': '',\n",
    "    'categories': _get_categories,\n",
    "    'tags': _get_tags,\n",
    "    'related_entries': _get_related_entries,\n",
    "}"
   ]
  },
  {
   "cell_type": "code",
   "execution_count": 9,
   "metadata": {},
   "outputs": [],
   "source": [
    "with open('entries.csv', 'w', newline='') as csvfile:\n",
    "    writer = csv.DictWriter(csvfile, fieldnames=entry_fields.keys(), quoting=csv.QUOTE_MINIMAL, quotechar='\"')\n",
    "    writer.writeheader()\n",
    "    for e in Entry.objects.all().prefetch_related():\n",
    "        row = entry_fields.copy()\n",
    "        for attr in entry_fields.keys():\n",
    "            if row[attr] == '':\n",
    "                row[attr] = getattr(e, attr)\n",
    "                continue\n",
    "            row[attr] = row[attr](e, attr)\n",
    "        writer.writerow(row)"
   ]
  },
  {
   "cell_type": "code",
   "execution_count": null,
   "metadata": {},
   "outputs": [],
   "source": []
  }
 ],
 "metadata": {
  "kernelspec": {
   "display_name": "Django Shell-Plus",
   "language": "python",
   "name": "django_extensions"
  },
  "language_info": {
   "codemirror_mode": {
    "name": "ipython",
    "version": 3
   },
   "file_extension": ".py",
   "mimetype": "text/x-python",
   "name": "python",
   "nbconvert_exporter": "python",
   "pygments_lexer": "ipython3",
   "version": "3.6.6"
  }
 },
 "nbformat": 4,
 "nbformat_minor": 4
}
