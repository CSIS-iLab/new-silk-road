{
 "cells": [
  {
   "cell_type": "code",
   "execution_count": 1,
   "metadata": {},
   "outputs": [
    {
     "name": "stderr",
     "output_type": "stream",
     "text": [
      "[raven.contrib.django.client.DjangoClient]DEBUG 15:55:58 Configuring Raven for host: None\n",
      "[raven.contrib.django.client.DjangoClient]INFO 15:55:58 Raven is not configured (logging is disabled). Please see the documentation for more information.\n"
     ]
    }
   ],
   "source": [
    "import os\n",
    "import sys\n",
    "from pathlib import Path\n",
    "django_project_dir = Path(\".\")\n",
    "sys.path.insert(0, str(django_project_dir))\n",
    "os.environ.setdefault(\"DJANGO_SETTINGS_MODULE\", \"newsilkroad.settings\")\n",
    "os.environ[\"DJANGO_ALLOW_ASYNC_UNSAFE\"] = \"true\"\n",
    "import django\n",
    "django.setup()"
   ]
  },
  {
   "cell_type": "code",
   "execution_count": 27,
   "metadata": {},
   "outputs": [],
   "source": [
    "from writings.models import Entry, EntryCollection, Category\n",
    "from django.db.models import Q\n",
    "import csv"
   ]
  },
  {
   "cell_type": "code",
   "execution_count": 28,
   "metadata": {},
   "outputs": [],
   "source": [
    "def _get_categories(obj):\n",
    "    if obj.categories:\n",
    "        return \",\".join([x.name for x in obj.categories.all()])\n",
    "    return \"\"\n",
    "\n",
    "def _get_tags(obj):\n",
    "    if obj.tags:\n",
    "        return \",\".join([x.name for x in obj.tags.all()])\n",
    "    return \"\"\n",
    "\n",
    "def _get_related_entries(obj):\n",
    "    if obj.related_entries:\n",
    "        return \",\".join([x.title for x in obj.related_entries.all()])\n",
    "    return \"\"\n",
    "\n",
    "def _get_filer_info(obj):\n",
    "    value = ''\n",
    "    if obj.featured_image:\n",
    "        value = f\"{getattr(obj.featured_image, 'original_filename')},{getattr(obj.featured_image, 'default_caption')}\"\n",
    "    return value"
   ]
  },
  {
   "cell_type": "code",
   "execution_count": 29,
   "metadata": {},
   "outputs": [],
   "source": [
    "entry_fields =  {\n",
    "    'id': '',\n",
    "    'created_at': '',\n",
    "    'updated_at': '',\n",
    "    'published': '',\n",
    "    'title': '',\n",
    "    'subtitle': '',\n",
    "    'slug': '',\n",
    "    'author': '',\n",
    "    'content': '',\n",
    "    'content_rendered': '',\n",
    "    'description': '',\n",
    "    'description_rendered': '',\n",
    "    'share_text': '',\n",
    "    'featured_image_id': _get_filer_info,\n",
    "    'publication_date': '',\n",
    "    'categories': _get_categories,\n",
    "    'tags': _get_tags,\n",
    "    'related_entries': _get_related_entries,\n",
    "}"
   ]
  },
  {
   "cell_type": "code",
   "execution_count": 78,
   "metadata": {},
   "outputs": [
    {
     "data": {
      "text/plain": [
       "318"
      ]
     },
     "execution_count": 78,
     "metadata": {},
     "output_type": "execute_result"
    }
   ],
   "source": [
    "e = Entry.objects.filter(published=True).exclude(Q(categories__slug=\"news\") & Q(author__exact=\"\"))\n",
    "e.count()"
   ]
  },
  {
   "cell_type": "code",
   "execution_count": 9,
   "metadata": {},
   "outputs": [
    {
     "data": {
      "text/plain": [
       "1283"
      ]
     },
     "execution_count": 9,
     "metadata": {},
     "output_type": "execute_result"
    }
   ],
   "source": [
    "Entry.objects.all().count()"
   ]
  },
  {
   "cell_type": "code",
   "execution_count": 79,
   "metadata": {},
   "outputs": [],
   "source": [
    "with open('entries.csv', 'w', newline='') as csvfile:\n",
    "    writer = csv.DictWriter(csvfile, fieldnames=entry_fields.keys(), quoting=csv.QUOTE_MINIMAL, quotechar='\"')\n",
    "    writer.writeheader()\n",
    "    for e in Entry.objects.filter(published=True).exclude(Q(categories__slug=\"news\") & Q(author__exact=\"\")).prefetch_related():\n",
    "        row = entry_fields.copy()\n",
    "        for attr in entry_fields.keys():\n",
    "            if row[attr] == '':\n",
    "                row[attr] = getattr(e, attr)\n",
    "                continue\n",
    "            row[attr] = row[attr](e)\n",
    "        writer.writerow(row)"
   ]
  }
 ],
 "metadata": {
  "kernelspec": {
   "display_name": "Django Shell-Plus",
   "language": "python",
   "name": "django_extensions"
  },
  "language_info": {
   "codemirror_mode": {
    "name": "ipython",
    "version": 3
   },
   "file_extension": ".py",
   "mimetype": "text/x-python",
   "name": "python",
   "nbconvert_exporter": "python",
   "pygments_lexer": "ipython3",
   "version": "3.6.6"
  }
 },
 "nbformat": 4,
 "nbformat_minor": 4
}
