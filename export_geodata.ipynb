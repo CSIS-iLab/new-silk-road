{
 "cells": [
  {
   "cell_type": "code",
   "execution_count": 1,
   "metadata": {},
   "outputs": [
    {
     "name": "stderr",
     "output_type": "stream",
     "text": [
      "[raven.contrib.django.client.DjangoClient]DEBUG 17:51:58 Configuring Raven for host: None\n",
      "[raven.contrib.django.client.DjangoClient]INFO 17:51:58 Raven is not configured (logging is disabled). Please see the documentation for more information.\n"
     ]
    }
   ],
   "source": [
    "import os\n",
    "import sys\n",
    "from pathlib import Path\n",
    "django_project_dir = Path(\".\")\n",
    "sys.path.insert(0, str(django_project_dir))\n",
    "os.environ.setdefault(\"DJANGO_SETTINGS_MODULE\", \"newsilkroad.settings\")\n",
    "os.environ[\"DJANGO_ALLOW_ASYNC_UNSAFE\"] = \"true\"\n",
    "import django\n",
    "django.setup()"
   ]
  },
  {
   "cell_type": "code",
   "execution_count": 2,
   "metadata": {},
   "outputs": [],
   "source": [
    "import pandas as pd\n",
    "import geopandas\n",
    "# import matplotlib.pyplot as plt\n",
    "from infrastructure.models import Project\n",
    "from locations.models import GeometryStore\n",
    "import ipdb"
   ]
  },
  {
   "cell_type": "code",
   "execution_count": 3,
   "metadata": {},
   "outputs": [
    {
     "data": {
      "text/plain": [
       "10574"
      ]
     },
     "execution_count": 3,
     "metadata": {},
     "output_type": "execute_result"
    }
   ],
   "source": [
    "GeometryStore.objects.all().count()"
   ]
  },
  {
   "cell_type": "code",
   "execution_count": 4,
   "metadata": {},
   "outputs": [],
   "source": [
    "# sums = {\n",
    "#     \"project_id\": None,\n",
    "#     \"overall_extent\": None,\n",
    "#     \"collection_centroid\": None,\n",
    "#     \"centroid\": None,\n",
    "#     \"lines\": _get_lines,\n",
    "#     \"polygons\": None,\n",
    "#     \"points\": None,\n",
    "# }\n",
    "# sums_list = []\n",
    "# for p in Project.objects.filter(geo__isnull=False)[:2]:\n",
    "#     row = sums.copy()\n",
    "#     for attr in sums.keys():\n",
    "#         if row[attr]:\n",
    "#             row[attr] = row[attr](p)\n",
    "#     print(row)\n",
    "#     print()"
   ]
  },
  {
   "cell_type": "code",
   "execution_count": 5,
   "metadata": {},
   "outputs": [],
   "source": [
    "def _get_lines(obj):\n",
    "    if obj.geo.lines.exists():\n",
    "        if obj.geo.lines.all().count() > 1:\n",
    "            return \";\".join([f\"{line.geom}\" for line in obj.geo.lines.all()])\n",
    "        return f\"{obj.geo.lines.all().first().geom}\"\n",
    "\n",
    "def _get_extents(obj):\n",
    "    return f\"{obj.geo.calculate_overall_extent()}\"\n",
    "\n",
    "def _get_centroid(obj):\n",
    "    return f\"{obj.geo.centroid}\"\n",
    "\n",
    "def _get_collection_centroid(obj):\n",
    "    return f\"{obj.get._get_collection_centroid()}\"\n",
    "\n",
    "def _get_polygons(obj):\n",
    "    if obj.geo.polygons.exists():\n",
    "        if obj.geo.polygons.all().count() > 1:\n",
    "            return \";\".join([f\"{poly.geom}\" for poly in obj.geo.polygons.all()])\n",
    "        return f\"{obj.geo.polygons.all().first().geom}\"\n",
    "\n",
    "def _get_points(obj):\n",
    "    if obj.geo.points.exists():\n",
    "        if obj.geo.points.all() > 1:\n",
    "            return \";\".join([f\"{point.geom}\" for point in obj.geo.points.all()])\n",
    "        return f\"{obj.geo.points.all().first().geom}\""
   ]
  },
  {
   "cell_type": "code",
   "execution_count": 34,
   "metadata": {},
   "outputs": [
    {
     "name": "stdout",
     "output_type": "stream",
     "text": [
      "                                                  label  \\\n",
      "0     Lot 1 Svilaj on The Sava River (connection to ...   \n",
      "1           Lot 2 Doboj South - Sarajevo South (Tarčin)   \n",
      "2         Lanzhou-Chongqing Railway Development Project   \n",
      "3                     Central Sichuan Roads Development   \n",
      "4                       Zhengzhou-Xi’an Railway Project   \n",
      "...                                                 ...   \n",
      "3174                        Riccall Biomass Power Plant   \n",
      "3175                                    WDF Power Plant   \n",
      "3176                Granville Eco Park Biopower Project   \n",
      "3177                Staples Vegetables Biopower Project   \n",
      "3178                  Westcott Venture Park Power Plant   \n",
      "\n",
      "                                identifier  \\\n",
      "0     c94f885b-4ba6-46d4-a02d-cbf1b8a80411   \n",
      "1     eec75fa5-b7b7-49dd-ac49-1e8d24f6c3dd   \n",
      "2     3b1671df-f213-4650-b21b-e3b6bb7f188c   \n",
      "3     2ee1458b-22df-4593-8680-c08c816774ff   \n",
      "4     cbf39312-2ce0-4cfc-9a06-2c1195e6fc49   \n",
      "...                                    ...   \n",
      "3174  18170e07-17a7-43c7-ac73-705b608e246e   \n",
      "3175  e0e710ab-ef06-4ed6-a490-1f2bcf95731b   \n",
      "3176  b5a1b3e7-fcd7-410a-acd6-a5faf191b2b0   \n",
      "3177  daccb00a-6412-450c-8f17-304cf62160f0   \n",
      "3178  445f0e43-6fd3-418d-a9f9-8870dc48e6a3   \n",
      "\n",
      "                                                   geom  \n",
      "0     LINESTRING (18.27923 45.11471, 18.27643 45.113...  \n",
      "1     LINESTRING (18.06451 44.66857, 18.06596 44.665...  \n",
      "2     LINESTRING (102.18397 28.30026, 102.18398 28.3...  \n",
      "3     LINESTRING (113.65277 34.74898, 113.65274 34.7...  \n",
      "4     LINESTRING (109.26059 28.50864, 109.26265 28.5...  \n",
      "...                                                 ...  \n",
      "3174  LINESTRING (16.69472 44.99232, 16.67628 44.999...  \n",
      "3175  LINESTRING (17.19568 45.85493, 17.21116 45.832...  \n",
      "3176  LINESTRING (15.23141 45.26031, 15.19568 45.285...  \n",
      "3177  LINESTRING (15.27707 45.22450, 15.27507 45.225...  \n",
      "3178  LINESTRING (15.55846 45.49108, 15.50909 45.437...  \n",
      "\n",
      "[3179 rows x 3 columns]\n"
     ]
    },
    {
     "ename": "ValueError",
     "evalue": "Invalid field type <class 'uuid.UUID'>",
     "output_type": "error",
     "traceback": [
      "\u001b[0;31m---------------------------------------------------------------------------\u001b[0m",
      "\u001b[0;31mValueError\u001b[0m                                Traceback (most recent call last)",
      "\u001b[0;32m<ipython-input-34-ad26851963ef>\u001b[0m in \u001b[0;36m<module>\u001b[0;34m\u001b[0m\n\u001b[1;32m      5\u001b[0m WHERE store.id = lines.id\"\"\", connection)\n\u001b[1;32m      6\u001b[0m \u001b[0mprint\u001b[0m\u001b[0;34m(\u001b[0m\u001b[0mdf\u001b[0m\u001b[0;34m)\u001b[0m\u001b[0;34m\u001b[0m\u001b[0;34m\u001b[0m\u001b[0m\n\u001b[0;32m----> 7\u001b[0;31m \u001b[0mdf\u001b[0m\u001b[0;34m.\u001b[0m\u001b[0mto_file\u001b[0m\u001b[0;34m(\u001b[0m\u001b[0;34m\"shapefiles/lines/locations_lines.shp\"\u001b[0m\u001b[0;34m)\u001b[0m\u001b[0;34m\u001b[0m\u001b[0;34m\u001b[0m\u001b[0m\n\u001b[0m\u001b[1;32m      8\u001b[0m \u001b[0;31m# def my_custom_sql():\u001b[0m\u001b[0;34m\u001b[0m\u001b[0;34m\u001b[0m\u001b[0;34m\u001b[0m\u001b[0m\n\u001b[1;32m      9\u001b[0m \u001b[0;31m#     columns = []\u001b[0m\u001b[0;34m\u001b[0m\u001b[0;34m\u001b[0m\u001b[0;34m\u001b[0m\u001b[0m\n",
      "\u001b[0;32m~/.virtualenvs/new-silk-road/lib/python3.6/site-packages/geopandas/geodataframe.py\u001b[0m in \u001b[0;36mto_file\u001b[0;34m(self, filename, driver, schema, index, **kwargs)\u001b[0m\n\u001b[1;32m    744\u001b[0m         \u001b[0;32mfrom\u001b[0m \u001b[0mgeopandas\u001b[0m\u001b[0;34m.\u001b[0m\u001b[0mio\u001b[0m\u001b[0;34m.\u001b[0m\u001b[0mfile\u001b[0m \u001b[0;32mimport\u001b[0m \u001b[0m_to_file\u001b[0m\u001b[0;34m\u001b[0m\u001b[0;34m\u001b[0m\u001b[0m\n\u001b[1;32m    745\u001b[0m \u001b[0;34m\u001b[0m\u001b[0m\n\u001b[0;32m--> 746\u001b[0;31m         \u001b[0m_to_file\u001b[0m\u001b[0;34m(\u001b[0m\u001b[0mself\u001b[0m\u001b[0;34m,\u001b[0m \u001b[0mfilename\u001b[0m\u001b[0;34m,\u001b[0m \u001b[0mdriver\u001b[0m\u001b[0;34m,\u001b[0m \u001b[0mschema\u001b[0m\u001b[0;34m,\u001b[0m \u001b[0mindex\u001b[0m\u001b[0;34m,\u001b[0m \u001b[0;34m**\u001b[0m\u001b[0mkwargs\u001b[0m\u001b[0;34m)\u001b[0m\u001b[0;34m\u001b[0m\u001b[0;34m\u001b[0m\u001b[0m\n\u001b[0m\u001b[1;32m    747\u001b[0m \u001b[0;34m\u001b[0m\u001b[0m\n\u001b[1;32m    748\u001b[0m     \u001b[0;32mdef\u001b[0m \u001b[0mset_crs\u001b[0m\u001b[0;34m(\u001b[0m\u001b[0mself\u001b[0m\u001b[0;34m,\u001b[0m \u001b[0mcrs\u001b[0m\u001b[0;34m=\u001b[0m\u001b[0;32mNone\u001b[0m\u001b[0;34m,\u001b[0m \u001b[0mepsg\u001b[0m\u001b[0;34m=\u001b[0m\u001b[0;32mNone\u001b[0m\u001b[0;34m,\u001b[0m \u001b[0minplace\u001b[0m\u001b[0;34m=\u001b[0m\u001b[0;32mFalse\u001b[0m\u001b[0;34m,\u001b[0m \u001b[0mallow_override\u001b[0m\u001b[0;34m=\u001b[0m\u001b[0;32mFalse\u001b[0m\u001b[0;34m)\u001b[0m\u001b[0;34m:\u001b[0m\u001b[0;34m\u001b[0m\u001b[0;34m\u001b[0m\u001b[0m\n",
      "\u001b[0;32m~/.virtualenvs/new-silk-road/lib/python3.6/site-packages/geopandas/io/file.py\u001b[0m in \u001b[0;36m_to_file\u001b[0;34m(df, filename, driver, schema, index, mode, crs, **kwargs)\u001b[0m\n\u001b[1;32m    255\u001b[0m             \u001b[0mfilename\u001b[0m\u001b[0;34m,\u001b[0m \u001b[0mmode\u001b[0m\u001b[0;34m=\u001b[0m\u001b[0mmode\u001b[0m\u001b[0;34m,\u001b[0m \u001b[0mdriver\u001b[0m\u001b[0;34m=\u001b[0m\u001b[0mdriver\u001b[0m\u001b[0;34m,\u001b[0m \u001b[0mcrs_wkt\u001b[0m\u001b[0;34m=\u001b[0m\u001b[0mcrs_wkt\u001b[0m\u001b[0;34m,\u001b[0m \u001b[0mschema\u001b[0m\u001b[0;34m=\u001b[0m\u001b[0mschema\u001b[0m\u001b[0;34m,\u001b[0m \u001b[0;34m**\u001b[0m\u001b[0mkwargs\u001b[0m\u001b[0;34m\u001b[0m\u001b[0;34m\u001b[0m\u001b[0m\n\u001b[1;32m    256\u001b[0m         ) as colxn:\n\u001b[0;32m--> 257\u001b[0;31m             \u001b[0mcolxn\u001b[0m\u001b[0;34m.\u001b[0m\u001b[0mwriterecords\u001b[0m\u001b[0;34m(\u001b[0m\u001b[0mdf\u001b[0m\u001b[0;34m.\u001b[0m\u001b[0miterfeatures\u001b[0m\u001b[0;34m(\u001b[0m\u001b[0;34m)\u001b[0m\u001b[0;34m)\u001b[0m\u001b[0;34m\u001b[0m\u001b[0;34m\u001b[0m\u001b[0m\n\u001b[0m\u001b[1;32m    258\u001b[0m \u001b[0;34m\u001b[0m\u001b[0m\n\u001b[1;32m    259\u001b[0m \u001b[0;34m\u001b[0m\u001b[0m\n",
      "\u001b[0;32m~/.virtualenvs/new-silk-road/lib/python3.6/site-packages/fiona/collection.py\u001b[0m in \u001b[0;36mwriterecords\u001b[0;34m(self, records)\u001b[0m\n\u001b[1;32m    359\u001b[0m         \u001b[0;32mif\u001b[0m \u001b[0mself\u001b[0m\u001b[0;34m.\u001b[0m\u001b[0mmode\u001b[0m \u001b[0;32mnot\u001b[0m \u001b[0;32min\u001b[0m \u001b[0;34m(\u001b[0m\u001b[0;34m'a'\u001b[0m\u001b[0;34m,\u001b[0m \u001b[0;34m'w'\u001b[0m\u001b[0;34m)\u001b[0m\u001b[0;34m:\u001b[0m\u001b[0;34m\u001b[0m\u001b[0;34m\u001b[0m\u001b[0m\n\u001b[1;32m    360\u001b[0m             \u001b[0;32mraise\u001b[0m \u001b[0mIOError\u001b[0m\u001b[0;34m(\u001b[0m\u001b[0;34m\"collection not open for writing\"\u001b[0m\u001b[0;34m)\u001b[0m\u001b[0;34m\u001b[0m\u001b[0;34m\u001b[0m\u001b[0m\n\u001b[0;32m--> 361\u001b[0;31m         \u001b[0mself\u001b[0m\u001b[0;34m.\u001b[0m\u001b[0msession\u001b[0m\u001b[0;34m.\u001b[0m\u001b[0mwriterecs\u001b[0m\u001b[0;34m(\u001b[0m\u001b[0mrecords\u001b[0m\u001b[0;34m,\u001b[0m \u001b[0mself\u001b[0m\u001b[0;34m)\u001b[0m\u001b[0;34m\u001b[0m\u001b[0;34m\u001b[0m\u001b[0m\n\u001b[0m\u001b[1;32m    362\u001b[0m         \u001b[0mself\u001b[0m\u001b[0;34m.\u001b[0m\u001b[0m_len\u001b[0m \u001b[0;34m=\u001b[0m \u001b[0mself\u001b[0m\u001b[0;34m.\u001b[0m\u001b[0msession\u001b[0m\u001b[0;34m.\u001b[0m\u001b[0mget_length\u001b[0m\u001b[0;34m(\u001b[0m\u001b[0;34m)\u001b[0m\u001b[0;34m\u001b[0m\u001b[0;34m\u001b[0m\u001b[0m\n\u001b[1;32m    363\u001b[0m         \u001b[0mself\u001b[0m\u001b[0;34m.\u001b[0m\u001b[0m_bounds\u001b[0m \u001b[0;34m=\u001b[0m \u001b[0;32mNone\u001b[0m\u001b[0;34m\u001b[0m\u001b[0;34m\u001b[0m\u001b[0m\n",
      "\u001b[0;32mfiona/ogrext.pyx\u001b[0m in \u001b[0;36mfiona.ogrext.WritingSession.writerecs\u001b[0;34m()\u001b[0m\n",
      "\u001b[0;32mfiona/ogrext.pyx\u001b[0m in \u001b[0;36mfiona.ogrext.OGRFeatureBuilder.build\u001b[0;34m()\u001b[0m\n",
      "\u001b[0;31mValueError\u001b[0m: Invalid field type <class 'uuid.UUID'>"
     ]
    }
   ],
   "source": [
    "from django.db import connection\n",
    "\n",
    "df = geopandas.read_postgis(\"\"\"select store.label AS label, store.identifier AS identifier, lines.geom AS geom \n",
    "FROM locations_geometrystore AS store, locations_linestringgeometry AS lines \n",
    "WHERE store.id = lines.id\"\"\", connection)\n",
    "print(df)\n",
    "df.to_file(\"shapefiles/lines/locations_lines.shp\")\n",
    "# def my_custom_sql():\n",
    "#     columns = []\n",
    "#     geometry_columns = {\n",
    "#         'identifier': None,\n",
    "#         'overall_extent': _get_extents, \n",
    "#         'centroid': _get_centroid, \n",
    "#         'collection_centroid': _get_collection_centroid, \n",
    "#         'lines': _get_lines, \n",
    "#         'polygons': _get_polygons, \n",
    "#         'points': _get_points\n",
    "#     }\n",
    "#     df = None\n",
    "#     with connection.cursor() as cursor:\n",
    "#         columns = {col[0] : None for col in cursor.description}\n",
    "#         df = geopandas.read_postgis(\"select * from locations_linestringgeometry\", )\n",
    "#     print(df)"
   ]
  },
  {
   "cell_type": "code",
   "execution_count": 25,
   "metadata": {},
   "outputs": [
    {
     "name": "stdout",
     "output_type": "stream",
     "text": [
      "         0                                                  1  \\\n",
      "0        1  Svilaj on The Sava River (connection to Corrid...   \n",
      "1        2              Doboj South - Sarajevo South (Tarčin)   \n",
      "2        3                  Lanzhou-Chongqing Railway Project   \n",
      "3        4  Central Sichuan Roads Development Project In C...   \n",
      "4        5  Central Sichuan Roads Development Project In C...   \n",
      "...    ...                                                ...   \n",
      "3297  3429                    Prijedor - Novi Grad - Dobrljin   \n",
      "3298  3430                                   Vukosavlje-Brcko   \n",
      "3299  3431             Oštarije – Škrljevo Section of Railway   \n",
      "3300  3432  Modernization of Rijeka-Zagreb Rail (section O...   \n",
      "3301  3433                                Karlovac - Oštarije   \n",
      "\n",
      "                                                      2  \\\n",
      "0     {'name': 'Svilaj on The Sava River (connection...   \n",
      "1     {'name': 'Doboj South - Sarajevo South (Tarčin...   \n",
      "2     {'name': 'Lanzhou-Chongqing Railway Project', ...   \n",
      "3     {'name': 'Central Sichuan Roads Development Pr...   \n",
      "4     {'name': 'Central Sichuan Roads Development Pr...   \n",
      "...                                                 ...   \n",
      "3297  {'name': 'Prijedor - Novi Grad - Dobrljin', 'l...   \n",
      "3298  {'name': 'Vukosavlje-Brcko', 'layer': 'Vukosav...   \n",
      "3299  {'name': 'Oštarije – Škrljevo Section of Railw...   \n",
      "3300  {'name': 'Modernization of Rijeka-Zagreb Rail ...   \n",
      "3301  {'name': 'Karlovac - Oštarije', 'layer': 'Karl...   \n",
      "\n",
      "                                                      3  \\\n",
      "0     0102000020E61000000705000026B340F07B47324096B2...   \n",
      "1     0102000020E61000006502000038AEF669831032406B26...   \n",
      "2     0102000020E61000000E000000C42EA0390BA35A409116...   \n",
      "3     0102000020E6100000BF040000289E421BC68B5940243D...   \n",
      "4     0102000020E6100000BF040000289E421BC68B5940243D...   \n",
      "...                                                 ...   \n",
      "3297  0102000020E61000002A00000093FE717ED9B1304025CC...   \n",
      "3298  0102000020E61000005C000000467DFA2D18323140E510...   \n",
      "3299  0102000020E6100000340000005C3802E57B762E401B8A...   \n",
      "3300  0102000020E61000002E000000B48CB8F8DB8D2E40EB15...   \n",
      "3301  0102000020E610000017000000F91F2F6EEE1D2F409F45...   \n",
      "\n",
      "                                    4                                5  \n",
      "0    2016-06-13 17:13:17.202738+00:00 2016-06-13 17:13:18.306765+00:00  \n",
      "1    2016-06-13 17:13:17.202738+00:00 2016-06-13 17:13:18.306765+00:00  \n",
      "2    2016-06-13 17:13:17.202738+00:00 2016-06-13 17:13:18.306765+00:00  \n",
      "3    2016-06-13 17:13:17.202738+00:00 2016-06-13 17:13:18.306765+00:00  \n",
      "4    2016-06-13 17:13:17.202738+00:00 2016-06-13 17:13:18.306765+00:00  \n",
      "...                               ...                              ...  \n",
      "3297 2020-04-03 12:56:11.884584+00:00 2020-04-03 12:56:11.884661+00:00  \n",
      "3298 2020-04-03 13:59:30.106828+00:00 2020-04-03 13:59:30.106873+00:00  \n",
      "3299 2020-04-03 14:22:17.877951+00:00 2020-04-03 14:22:17.877995+00:00  \n",
      "3300 2020-04-03 14:29:49.965233+00:00 2020-04-03 14:29:49.965284+00:00  \n",
      "3301 2020-04-03 15:01:15.802920+00:00 2020-04-03 15:01:15.802972+00:00  \n",
      "\n",
      "[3302 rows x 6 columns]\n"
     ]
    }
   ],
   "source": [
    "my_custom_sql()"
   ]
  },
  {
   "cell_type": "code",
   "execution_count": 53,
   "metadata": {},
   "outputs": [
    {
     "ename": "AttributeError",
     "evalue": "No geometry data set yet (expected in column 'geometry'.)",
     "output_type": "error",
     "traceback": [
      "\u001b[0;31m---------------------------------------------------------------------------\u001b[0m",
      "\u001b[0;31mAttributeError\u001b[0m                            Traceback (most recent call last)",
      "\u001b[0;32m<ipython-input-53-6a7d107b0ab9>\u001b[0m in \u001b[0;36m<module>\u001b[0;34m\u001b[0m\n\u001b[0;32m----> 1\u001b[0;31m \u001b[0mgdf\u001b[0m\u001b[0;34m.\u001b[0m\u001b[0marea\u001b[0m\u001b[0;34m(\u001b[0m\u001b[0;34m)\u001b[0m\u001b[0;34m\u001b[0m\u001b[0;34m\u001b[0m\u001b[0m\n\u001b[0m",
      "\u001b[0;32m~/.virtualenvs/new-silk-road/lib/python3.6/site-packages/pandas/core/generic.py\u001b[0m in \u001b[0;36m__getattr__\u001b[0;34m(self, name)\u001b[0m\n\u001b[1;32m   5137\u001b[0m             \u001b[0;32mif\u001b[0m \u001b[0mself\u001b[0m\u001b[0;34m.\u001b[0m\u001b[0m_info_axis\u001b[0m\u001b[0;34m.\u001b[0m\u001b[0m_can_hold_identifiers_and_holds_name\u001b[0m\u001b[0;34m(\u001b[0m\u001b[0mname\u001b[0m\u001b[0;34m)\u001b[0m\u001b[0;34m:\u001b[0m\u001b[0;34m\u001b[0m\u001b[0;34m\u001b[0m\u001b[0m\n\u001b[1;32m   5138\u001b[0m                 \u001b[0;32mreturn\u001b[0m \u001b[0mself\u001b[0m\u001b[0;34m[\u001b[0m\u001b[0mname\u001b[0m\u001b[0;34m]\u001b[0m\u001b[0;34m\u001b[0m\u001b[0;34m\u001b[0m\u001b[0m\n\u001b[0;32m-> 5139\u001b[0;31m             \u001b[0;32mreturn\u001b[0m \u001b[0mobject\u001b[0m\u001b[0;34m.\u001b[0m\u001b[0m__getattribute__\u001b[0m\u001b[0;34m(\u001b[0m\u001b[0mself\u001b[0m\u001b[0;34m,\u001b[0m \u001b[0mname\u001b[0m\u001b[0;34m)\u001b[0m\u001b[0;34m\u001b[0m\u001b[0;34m\u001b[0m\u001b[0m\n\u001b[0m\u001b[1;32m   5140\u001b[0m \u001b[0;34m\u001b[0m\u001b[0m\n\u001b[1;32m   5141\u001b[0m     \u001b[0;32mdef\u001b[0m \u001b[0m__setattr__\u001b[0m\u001b[0;34m(\u001b[0m\u001b[0mself\u001b[0m\u001b[0;34m,\u001b[0m \u001b[0mname\u001b[0m\u001b[0;34m:\u001b[0m \u001b[0mstr\u001b[0m\u001b[0;34m,\u001b[0m \u001b[0mvalue\u001b[0m\u001b[0;34m)\u001b[0m \u001b[0;34m->\u001b[0m \u001b[0;32mNone\u001b[0m\u001b[0;34m:\u001b[0m\u001b[0;34m\u001b[0m\u001b[0;34m\u001b[0m\u001b[0m\n",
      "\u001b[0;32m~/.virtualenvs/new-silk-road/lib/python3.6/site-packages/geopandas/base.py\u001b[0m in \u001b[0;36marea\u001b[0;34m(self)\u001b[0m\n\u001b[1;32m    127\u001b[0m         \"\"\"Returns a ``Series`` containing the area of each geometry in the\n\u001b[1;32m    128\u001b[0m         ``GeoSeries``.\"\"\"\n\u001b[0;32m--> 129\u001b[0;31m         \u001b[0;32mreturn\u001b[0m \u001b[0m_delegate_property\u001b[0m\u001b[0;34m(\u001b[0m\u001b[0;34m\"area\"\u001b[0m\u001b[0;34m,\u001b[0m \u001b[0mself\u001b[0m\u001b[0;34m)\u001b[0m\u001b[0;34m\u001b[0m\u001b[0;34m\u001b[0m\u001b[0m\n\u001b[0m\u001b[1;32m    130\u001b[0m \u001b[0;34m\u001b[0m\u001b[0m\n\u001b[1;32m    131\u001b[0m     \u001b[0;34m@\u001b[0m\u001b[0mproperty\u001b[0m\u001b[0;34m\u001b[0m\u001b[0;34m\u001b[0m\u001b[0m\n",
      "\u001b[0;32m~/.virtualenvs/new-silk-road/lib/python3.6/site-packages/geopandas/base.py\u001b[0m in \u001b[0;36m_delegate_property\u001b[0;34m(op, this)\u001b[0m\n\u001b[1;32m     71\u001b[0m \u001b[0;32mdef\u001b[0m \u001b[0m_delegate_property\u001b[0m\u001b[0;34m(\u001b[0m\u001b[0mop\u001b[0m\u001b[0;34m,\u001b[0m \u001b[0mthis\u001b[0m\u001b[0;34m)\u001b[0m\u001b[0;34m:\u001b[0m\u001b[0;34m\u001b[0m\u001b[0;34m\u001b[0m\u001b[0m\n\u001b[1;32m     72\u001b[0m     \u001b[0;31m# type: (str, GeoSeries) -> GeoSeries/Series\u001b[0m\u001b[0;34m\u001b[0m\u001b[0;34m\u001b[0m\u001b[0;34m\u001b[0m\u001b[0m\n\u001b[0;32m---> 73\u001b[0;31m     \u001b[0ma_this\u001b[0m \u001b[0;34m=\u001b[0m \u001b[0mGeometryArray\u001b[0m\u001b[0;34m(\u001b[0m\u001b[0mthis\u001b[0m\u001b[0;34m.\u001b[0m\u001b[0mgeometry\u001b[0m\u001b[0;34m.\u001b[0m\u001b[0mvalues\u001b[0m\u001b[0;34m)\u001b[0m\u001b[0;34m\u001b[0m\u001b[0;34m\u001b[0m\u001b[0m\n\u001b[0m\u001b[1;32m     74\u001b[0m     \u001b[0mdata\u001b[0m \u001b[0;34m=\u001b[0m \u001b[0mgetattr\u001b[0m\u001b[0;34m(\u001b[0m\u001b[0ma_this\u001b[0m\u001b[0;34m,\u001b[0m \u001b[0mop\u001b[0m\u001b[0;34m)\u001b[0m\u001b[0;34m\u001b[0m\u001b[0;34m\u001b[0m\u001b[0m\n\u001b[1;32m     75\u001b[0m     \u001b[0;32mif\u001b[0m \u001b[0misinstance\u001b[0m\u001b[0;34m(\u001b[0m\u001b[0mdata\u001b[0m\u001b[0;34m,\u001b[0m \u001b[0mGeometryArray\u001b[0m\u001b[0;34m)\u001b[0m\u001b[0;34m:\u001b[0m\u001b[0;34m\u001b[0m\u001b[0;34m\u001b[0m\u001b[0m\n",
      "\u001b[0;32m~/.virtualenvs/new-silk-road/lib/python3.6/site-packages/pandas/core/generic.py\u001b[0m in \u001b[0;36m__getattr__\u001b[0;34m(self, name)\u001b[0m\n\u001b[1;32m   5137\u001b[0m             \u001b[0;32mif\u001b[0m \u001b[0mself\u001b[0m\u001b[0;34m.\u001b[0m\u001b[0m_info_axis\u001b[0m\u001b[0;34m.\u001b[0m\u001b[0m_can_hold_identifiers_and_holds_name\u001b[0m\u001b[0;34m(\u001b[0m\u001b[0mname\u001b[0m\u001b[0;34m)\u001b[0m\u001b[0;34m:\u001b[0m\u001b[0;34m\u001b[0m\u001b[0;34m\u001b[0m\u001b[0m\n\u001b[1;32m   5138\u001b[0m                 \u001b[0;32mreturn\u001b[0m \u001b[0mself\u001b[0m\u001b[0;34m[\u001b[0m\u001b[0mname\u001b[0m\u001b[0;34m]\u001b[0m\u001b[0;34m\u001b[0m\u001b[0;34m\u001b[0m\u001b[0m\n\u001b[0;32m-> 5139\u001b[0;31m             \u001b[0;32mreturn\u001b[0m \u001b[0mobject\u001b[0m\u001b[0;34m.\u001b[0m\u001b[0m__getattribute__\u001b[0m\u001b[0;34m(\u001b[0m\u001b[0mself\u001b[0m\u001b[0;34m,\u001b[0m \u001b[0mname\u001b[0m\u001b[0;34m)\u001b[0m\u001b[0;34m\u001b[0m\u001b[0;34m\u001b[0m\u001b[0m\n\u001b[0m\u001b[1;32m   5140\u001b[0m \u001b[0;34m\u001b[0m\u001b[0m\n\u001b[1;32m   5141\u001b[0m     \u001b[0;32mdef\u001b[0m \u001b[0m__setattr__\u001b[0m\u001b[0;34m(\u001b[0m\u001b[0mself\u001b[0m\u001b[0;34m,\u001b[0m \u001b[0mname\u001b[0m\u001b[0;34m:\u001b[0m \u001b[0mstr\u001b[0m\u001b[0;34m,\u001b[0m \u001b[0mvalue\u001b[0m\u001b[0;34m)\u001b[0m \u001b[0;34m->\u001b[0m \u001b[0;32mNone\u001b[0m\u001b[0;34m:\u001b[0m\u001b[0;34m\u001b[0m\u001b[0;34m\u001b[0m\u001b[0m\n",
      "\u001b[0;32m~/.virtualenvs/new-silk-road/lib/python3.6/site-packages/geopandas/geodataframe.py\u001b[0m in \u001b[0;36m_get_geometry\u001b[0;34m(self)\u001b[0m\n\u001b[1;32m    171\u001b[0m             raise AttributeError(\n\u001b[1;32m    172\u001b[0m                 \u001b[0;34m\"No geometry data set yet (expected in\"\u001b[0m\u001b[0;34m\u001b[0m\u001b[0;34m\u001b[0m\u001b[0m\n\u001b[0;32m--> 173\u001b[0;31m                 \u001b[0;34m\" column '%s'.)\"\u001b[0m \u001b[0;34m%\u001b[0m \u001b[0mself\u001b[0m\u001b[0;34m.\u001b[0m\u001b[0m_geometry_column_name\u001b[0m\u001b[0;34m\u001b[0m\u001b[0;34m\u001b[0m\u001b[0m\n\u001b[0m\u001b[1;32m    174\u001b[0m             )\n\u001b[1;32m    175\u001b[0m         \u001b[0;32mreturn\u001b[0m \u001b[0mself\u001b[0m\u001b[0;34m[\u001b[0m\u001b[0mself\u001b[0m\u001b[0;34m.\u001b[0m\u001b[0m_geometry_column_name\u001b[0m\u001b[0;34m]\u001b[0m\u001b[0;34m\u001b[0m\u001b[0;34m\u001b[0m\u001b[0m\n",
      "\u001b[0;31mAttributeError\u001b[0m: No geometry data set yet (expected in column 'geometry'.)"
     ]
    }
   ],
   "source": []
  },
  {
   "cell_type": "code",
   "execution_count": null,
   "metadata": {},
   "outputs": [],
   "source": []
  }
 ],
 "metadata": {
  "kernelspec": {
   "display_name": "Django Shell-Plus",
   "language": "python",
   "name": "django_extensions"
  },
  "language_info": {
   "codemirror_mode": {
    "name": "ipython",
    "version": 3
   },
   "file_extension": ".py",
   "mimetype": "text/x-python",
   "name": "python",
   "nbconvert_exporter": "python",
   "pygments_lexer": "ipython3",
   "version": "3.6.6"
  }
 },
 "nbformat": 4,
 "nbformat_minor": 4
}
