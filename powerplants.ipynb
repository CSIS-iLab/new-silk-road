{
 "cells": [
  {
   "cell_type": "code",
   "execution_count": 1,
   "metadata": {},
   "outputs": [],
   "source": [
    "from infrastructure.models import (\n",
    "    CuratedProjectCollection,\n",
    "    Project,\n",
    "    ProjectStatus,\n",
    "    Initiative,\n",
    "    InfrastructureType,\n",
    "    PowerPlant,\n",
    ")\n",
    "from locations.models import (\n",
    "    LineStringGeometry,\n",
    "    PointGeometry,\n",
    "    PolygonGeometry,\n",
    "    GeometryStore,\n",
    "    Region,\n",
    "    Country,\n",
    ")\n",
    "from django.db.models import (\n",
    "    Case, CharField, Count, ExpressionWrapper, F, FloatField, Q, Value, When\n",
    ")\n",
    "from django.contrib.postgres.aggregates import StringAgg\n",
    "from django.db.models.functions import Cast\n",
    "from decimal import Decimal\n",
    "from django.db.models.functions import Lower"
   ]
  },
  {
   "cell_type": "code",
   "execution_count": 2,
   "metadata": {},
   "outputs": [
    {
     "data": {
      "text/plain": [
       "7203"
      ]
     },
     "execution_count": 2,
     "metadata": {},
     "output_type": "execute_result"
    }
   ],
   "source": [
    "PowerPlant.objects.count()"
   ]
  },
  {
   "cell_type": "code",
   "execution_count": 3,
   "metadata": {},
   "outputs": [
    {
     "data": {
      "text/plain": [
       "13889"
      ]
     },
     "execution_count": 3,
     "metadata": {},
     "output_type": "execute_result"
    }
   ],
   "source": [
    "Project.objects.count()"
   ]
  },
  {
   "cell_type": "code",
   "execution_count": 4,
   "metadata": {},
   "outputs": [
    {
     "data": {
      "text/plain": [
       "2836"
      ]
     },
     "execution_count": 4,
     "metadata": {},
     "output_type": "execute_result"
    }
   ],
   "source": [
    "Project.objects.filter(power_plant__isnull=True).count()"
   ]
  },
  {
   "cell_type": "code",
   "execution_count": 5,
   "metadata": {},
   "outputs": [
    {
     "data": {
      "text/plain": [
       "11053"
      ]
     },
     "execution_count": 5,
     "metadata": {},
     "output_type": "execute_result"
    }
   ],
   "source": [
    "Project.objects.filter(power_plant__isnull=False).count()"
   ]
  },
  {
   "cell_type": "code",
   "execution_count": 6,
   "metadata": {},
   "outputs": [
    {
     "data": {
      "text/plain": [
       "10470"
      ]
     },
     "execution_count": 6,
     "metadata": {},
     "output_type": "execute_result"
    }
   ],
   "source": [
    "GeometryStore.objects.count()"
   ]
  },
  {
   "cell_type": "code",
   "execution_count": 7,
   "metadata": {},
   "outputs": [
    {
     "data": {
      "text/plain": [
       "9358"
      ]
     },
     "execution_count": 7,
     "metadata": {},
     "output_type": "execute_result"
    }
   ],
   "source": [
    "# existing API queryset\n",
    "existing_queryset = GeometryStore.objects.exclude(\n",
    "    lines=None, points=None, polygons=None\n",
    ").exclude(\n",
    "    centroid__isnull=True\n",
    ").filter(\n",
    "    projects__isnull=False\n",
    ").annotate(\n",
    "    project_alt_name=F('projects__alternate_name'),\n",
    "    project_name=F('projects__name'),\n",
    "    # FYI this annotation is used in the filtering mechanism\n",
    "    # If this is adjusted/removed, adjust the filter accordingly\n",
    "    project_type=F('projects__infrastructure_type__name'),\n",
    "    project_type_lower=Lower('projects__infrastructure_type__name'),\n",
    "    locations=StringAgg('projects__countries__name', ',', distinct=True),\n",
    "    currency=F('projects__total_cost_currency'),\n",
    "    total_cost=F('projects__total_cost'),\n",
    ").annotate(\n",
    "    icon_image=Case(\n",
    "        When(project_type_lower='seaport', then=Value('Seaport')),\n",
    "        When(project_type_lower='dryport', then=Value('Dryport')),\n",
    "        When(project_type_lower='rail', then=Value('Rail')),\n",
    "        When(project_type_lower='road', then=Value('Road')),\n",
    "        When(project_type_lower='multimodal', then=Value('Multimodal')),\n",
    "        When(project_type_lower='intermodal', then=Value('Intermodal')),\n",
    "        When(project_type_lower='powerplant', then=Value('Powerplant')),\n",
    "        default=Value('dot'),\n",
    "        output_field=CharField(),\n",
    "    )\n",
    ").annotate(\n",
    "    best_project_name=Case(\n",
    "        When(project_alt_name='', then=F('project_name')),\n",
    "        default=F('project_alt_name'),\n",
    "        output_field=CharField(),\n",
    "    )\n",
    ")\n",
    "existing_queryset.count()"
   ]
  },
  {
   "cell_type": "code",
   "execution_count": 8,
   "metadata": {},
   "outputs": [
    {
     "data": {
      "text/plain": [
       "5035"
      ]
     },
     "execution_count": 8,
     "metadata": {},
     "output_type": "execute_result"
    }
   ],
   "source": [
    "projects_with_distinct_powerplants = Project.objects.exclude(\n",
    "    power_plant__isnull=True\n",
    ").exclude(\n",
    "    geo__lines=None,\n",
    "    geo__points=None,\n",
    "    geo__polygons=None,\n",
    ").exclude(\n",
    "    geo__centroid__isnull=True\n",
    ").order_by('power_plant__id').distinct('power_plant__id').only('id')\n",
    "projects_with_distinct_powerplants.count()"
   ]
  },
  {
   "cell_type": "code",
   "execution_count": 9,
   "metadata": {},
   "outputs": [
    {
     "data": {
      "text/plain": [
       "1466"
      ]
     },
     "execution_count": 9,
     "metadata": {},
     "output_type": "execute_result"
    }
   ],
   "source": [
    "projects_without_powerplants = Project.objects.exclude(\n",
    "    infrastructure_type__name='Powerplant',\n",
    ").exclude(\n",
    "    geo__lines=None,\n",
    "    geo__points=None,\n",
    "    geo__polygons=None,\n",
    ").exclude(\n",
    "    geo__centroid__isnull=True\n",
    ").only('id')\n",
    "projects_without_powerplants.count()"
   ]
  },
  {
   "cell_type": "code",
   "execution_count": 10,
   "metadata": {},
   "outputs": [
    {
     "data": {
      "text/plain": [
       "6501"
      ]
     },
     "execution_count": 10,
     "metadata": {},
     "output_type": "execute_result"
    }
   ],
   "source": [
    "5035 + 1466"
   ]
  },
  {
   "cell_type": "code",
   "execution_count": 11,
   "metadata": {},
   "outputs": [
    {
     "data": {
      "text/plain": [
       "6501"
      ]
     },
     "execution_count": 11,
     "metadata": {},
     "output_type": "execute_result"
    }
   ],
   "source": [
    "project_ids = []\n",
    "project_ids.extend(list(projects_with_distinct_powerplants.values_list('id', flat=True)))\n",
    "project_ids.extend(list(projects_without_powerplants.values_list('id', flat=True)))\n",
    "\n",
    "# API queryset\n",
    "queryset = GeometryStore.objects.exclude(\n",
    "    lines=None, points=None, polygons=None\n",
    ").exclude(\n",
    "    centroid__isnull=True\n",
    ").filter(\n",
    "    projects__id__in=project_ids,  # <-- new filter\n",
    ").annotate(\n",
    "    project_alt_name=F('projects__alternate_name'),\n",
    "    project_name=F('projects__name'),\n",
    "    # FYI this annotation is used in the filtering mechanism\n",
    "    # If this is adjusted/removed, adjust the filter accordingly\n",
    "    project_type=F('projects__infrastructure_type__name'),\n",
    "    project_type_lower=Lower('projects__infrastructure_type__name'),\n",
    "    locations=StringAgg('projects__countries__name', ',', distinct=True),\n",
    "    currency=F('projects__total_cost_currency'),\n",
    "    total_cost=F('projects__total_cost'),\n",
    ").annotate(\n",
    "    icon_image=Case(\n",
    "        When(project_type_lower='seaport', then=Value('Seaport')),\n",
    "        When(project_type_lower='dryport', then=Value('Dryport')),\n",
    "        When(project_type_lower='rail', then=Value('Rail')),\n",
    "        When(project_type_lower='road', then=Value('Road')),\n",
    "        When(project_type_lower='multimodal', then=Value('Multimodal')),\n",
    "        When(project_type_lower='intermodal', then=Value('Intermodal')),\n",
    "        When(project_type_lower='powerplant', then=Value('Powerplant')),\n",
    "        default=Value('dot'),\n",
    "        output_field=CharField(),\n",
    "    )\n",
    ").annotate(\n",
    "    best_project_name=Case(\n",
    "        When(project_alt_name='', then=F('project_name')),\n",
    "        default=F('project_alt_name'),\n",
    "        output_field=CharField(),\n",
    "    )\n",
    ")\n",
    "queryset.count()"
   ]
  },
  {
   "cell_type": "code",
   "execution_count": 12,
   "metadata": {},
   "outputs": [
    {
     "data": {
      "text/plain": [
       "[('Shandong Shidaowan Nuclear Power Plant', 19),\n",
       " ('Ananthapuramu Ultra Mega Solar PV Park', 15),\n",
       " ('Kirchheilingen', 14),\n",
       " ('Alto Minho I', 14),\n",
       " ('Parchim-UKA', 13),\n",
       " ('National Advanced PV Technology Demonstration Center Solar PV Park', 12),\n",
       " ('Vedanta Jharsuguda Captive Power Plant', 12),\n",
       " ('Yerkovetskaya Thermal Power Station', 12),\n",
       " ('Kudankulam Atomic Power Project', 12),\n",
       " ('Ukraine Nuclear Power Plant', 11),\n",
       " ('Gani - NTPC NSM Phase II Solar PV Park', 10),\n",
       " ('Tuapse Refinery Power Plant', 10),\n",
       " ('Amravati Thermal Power Plant', 10),\n",
       " ('Leningrad Nuclear Power Plant', 10),\n",
       " ('Kursk Nuclear Power Plant', 10)]"
      ]
     },
     "execution_count": 12,
     "metadata": {},
     "output_type": "execute_result"
    }
   ],
   "source": [
    "pp = PowerPlant.objects.annotate(\n",
    "    count=Count('project')\n",
    ").filter(\n",
    "    count__gt=1\n",
    ").order_by('-count').values_list('name', 'count')\n",
    "list(pp[:15])"
   ]
  },
  {
   "cell_type": "code",
   "execution_count": 13,
   "metadata": {},
   "outputs": [
    {
     "data": {
      "text/plain": [
       "2084"
      ]
     },
     "execution_count": 13,
     "metadata": {},
     "output_type": "execute_result"
    }
   ],
   "source": [
    "pp.count()"
   ]
  },
  {
   "cell_type": "code",
   "execution_count": 14,
   "metadata": {},
   "outputs": [
    {
     "data": {
      "text/plain": [
       "1466"
      ]
     },
     "execution_count": 14,
     "metadata": {},
     "output_type": "execute_result"
    }
   ],
   "source": [
    "# Non-powerplant projects\n",
    "existing_queryset.exclude(projects__infrastructure_type__name='Powerplant').count()"
   ]
  },
  {
   "cell_type": "code",
   "execution_count": 15,
   "metadata": {},
   "outputs": [
    {
     "data": {
      "text/plain": [
       "19"
      ]
     },
     "execution_count": 15,
     "metadata": {},
     "output_type": "execute_result"
    }
   ],
   "source": [
    "# existing queryset returns multiple\n",
    "existing_queryset.filter(projects__power_plant__name='Shandong Shidaowan Nuclear Power Plant').count()"
   ]
  },
  {
   "cell_type": "code",
   "execution_count": 16,
   "metadata": {},
   "outputs": [
    {
     "data": {
      "text/plain": [
       "1"
      ]
     },
     "execution_count": 16,
     "metadata": {},
     "output_type": "execute_result"
    }
   ],
   "source": [
    "# only one Project should return with new queryset\n",
    "queryset.filter(projects__power_plant__name='Shandong Shidaowan Nuclear Power Plant').count()"
   ]
  },
  {
   "cell_type": "code",
   "execution_count": 17,
   "metadata": {},
   "outputs": [
    {
     "data": {
      "text/plain": [
       "1"
      ]
     },
     "execution_count": 17,
     "metadata": {},
     "output_type": "execute_result"
    }
   ],
   "source": [
    "queryset.filter(projects__power_plant__name='Ananthapuramu Ultra Mega Solar PV Park').count()"
   ]
  },
  {
   "cell_type": "code",
   "execution_count": null,
   "metadata": {},
   "outputs": [],
   "source": []
  }
 ],
 "metadata": {
  "kernelspec": {
   "display_name": "Django Shell-Plus",
   "language": "python",
   "name": "django_extensions"
  },
  "language_info": {
   "codemirror_mode": {
    "name": "ipython",
    "version": 3
   },
   "file_extension": ".py",
   "mimetype": "text/x-python",
   "name": "python",
   "nbconvert_exporter": "python",
   "pygments_lexer": "ipython3",
   "version": "3.6.6"
  }
 },
 "nbformat": 4,
 "nbformat_minor": 2
}
